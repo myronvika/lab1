{
 "cells": [
  {
   "cell_type": "code",
   "execution_count": 1,
   "id": "initial_id",
   "metadata": {
    "collapsed": true,
    "ExecuteTime": {
     "end_time": "2024-10-22T07:45:50.760695Z",
     "start_time": "2024-10-22T07:45:46.552411Z"
    }
   },
   "outputs": [
    {
     "name": "stdout",
     "output_type": "stream",
     "text": [
      "(60000, 28, 28) uint8\n",
      "(10000, 28, 28) uint8\n"
     ]
    }
   ],
   "source": [
    "from tensorflow import keras\n",
    "\n",
    "fashion_mnist = keras.datasets.fashion_mnist\n",
    "(x_train_full, y_train_full), (x_test, y_test) = fashion_mnist.load_data()\n",
    "\n",
    "print(x_train_full.shape, x_train_full.dtype)\n",
    "print(x_test.shape, x_test.dtype)\n",
    "\n",
    "VAL_SIZE = 4000\n",
    "\n",
    "x_valid, x_train = x_train_full[:VAL_SIZE] / 255.0, x_train_full[VAL_SIZE:] / 255.0\n",
    "y_valid, y_train = y_train_full[:VAL_SIZE], y_train_full[VAL_SIZE:]\n",
    "\n",
    "# Перетворення 2D зображень у 1D вектори\n",
    "x_train = x_train.reshape(-1, 28 * 28)\n",
    "x_valid = x_valid.reshape(-1, 28 * 28)\n",
    "x_test = x_test.reshape(-1, 28 * 28)\n",
    "\n",
    "# Перетворення міток класів у one-hot encoding\n",
    "y_train_one_hot = keras.utils.to_categorical(y_train, 10)\n",
    "y_valid_one_hot = keras.utils.to_categorical(y_valid, 10)\n",
    "y_test_one_hot = keras.utils.to_categorical(y_test, 10)"
   ]
  },
  {
   "cell_type": "code",
   "outputs": [
    {
     "data": {
      "text/plain": "('Bag', 'Ankle boot')"
     },
     "execution_count": 2,
     "metadata": {},
     "output_type": "execute_result"
    }
   ],
   "source": [
    "class_names = [\n",
    "    'T-shirt',\n",
    "    'Trouser',\n",
    "    'Pullover',\n",
    "    'Dress',\n",
    "    'Coat',\n",
    "    'Sandal',\n",
    "    'Shirt',\n",
    "    'Sneaker',\n",
    "    'Bag',\n",
    "    'Ankle boot'\n",
    "]\n",
    "\n",
    "class_names[y_train[0]], class_names[y_valid[0]]"
   ],
   "metadata": {
    "collapsed": false,
    "ExecuteTime": {
     "end_time": "2024-10-22T07:45:50.791693Z",
     "start_time": "2024-10-22T07:45:50.764732Z"
    }
   },
   "id": "42f91553124be737",
   "execution_count": 2
  },
  {
   "cell_type": "code",
   "outputs": [],
   "source": [
    "import tensorflow as tf\n",
    "\n",
    "def create_model_relu():\n",
    "    model = tf.keras.models.Sequential([\n",
    "        tf.keras.layers.Dense(512, activation='relu', input_shape=(28*28,)),\n",
    "        tf.keras.layers.Dense(256, activation='relu'),\n",
    "        tf.keras.layers.Dense(128, activation='relu'),\n",
    "        tf.keras.layers.Dense(10, activation='softmax')\n",
    "    ])\n",
    "    model.compile(optimizer='adam', loss='categorical_crossentropy', metrics=['accuracy'])\n",
    "    return model"
   ],
   "metadata": {
    "collapsed": false,
    "ExecuteTime": {
     "end_time": "2024-10-22T07:45:50.807832Z",
     "start_time": "2024-10-22T07:45:50.794688Z"
    }
   },
   "id": "5665d859c6d98e70",
   "execution_count": 3
  },
  {
   "cell_type": "code",
   "outputs": [],
   "source": [
    "def create_model_tanh():\n",
    "    model = tf.keras.models.Sequential([\n",
    "        tf.keras.layers.Dense(256, activation='tanh', input_shape=(28*28,)),\n",
    "        tf.keras.layers.Dense(128, activation='tanh'),\n",
    "        tf.keras.layers.Dense(64, activation='tanh'),\n",
    "        tf.keras.layers.Dense(10, activation='softmax')\n",
    "    ])\n",
    "    model.compile(optimizer='adam', loss='categorical_crossentropy', metrics=['accuracy'])\n",
    "    return model"
   ],
   "metadata": {
    "collapsed": false,
    "ExecuteTime": {
     "end_time": "2024-10-22T07:45:50.823813Z",
     "start_time": "2024-10-22T07:45:50.810772Z"
    }
   },
   "id": "219b14182f4a7dc1",
   "execution_count": 4
  },
  {
   "cell_type": "code",
   "outputs": [],
   "source": [
    "def create_model_selu():\n",
    "    model = tf.keras.models.Sequential([\n",
    "        tf.keras.layers.Dense(384, activation='selu', input_shape=(28*28,)),\n",
    "        tf.keras.layers.Dense(192, activation='selu'),\n",
    "        tf.keras.layers.Dense(96, activation='selu'),\n",
    "        tf.keras.layers.Dense(10, activation='softmax')\n",
    "    ])\n",
    "    model.compile(optimizer=tf.keras.optimizers.Adam(learning_rate=0.001), \n",
    "                  loss='categorical_crossentropy', \n",
    "                  metrics=['accuracy'])\n",
    "    return model"
   ],
   "metadata": {
    "collapsed": false,
    "ExecuteTime": {
     "end_time": "2024-10-22T07:45:50.839894Z",
     "start_time": "2024-10-22T07:45:50.828853Z"
    }
   },
   "id": "7a42d680b16b4b42",
   "execution_count": 5
  },
  {
   "cell_type": "code",
   "outputs": [],
   "source": [
    "import matplotlib.pyplot as plt\n",
    "import pandas as pd\n",
    "\n",
    "def train_and_plot(model, model_name, x_train, y_train, x_valid, y_valid):\n",
    "    history = model.fit(x_train, y_train, epochs=10, validation_data=(x_valid, y_valid), batch_size=32, verbose=2)\n",
    "    \n",
    "    pd.DataFrame(history.history).plot(figsize=(8, 5))\n",
    "    plt.grid(True)\n",
    "    plt.gca().set_ylim(0, 1)\n",
    "    plt.show()\n",
    "\n",
    "    val_loss, val_acc = model.evaluate(x_valid, y_valid, verbose=0)\n",
    "    print(f\"Точність на валідаційних даних для {model_name}: {val_acc:.4f}\")"
   ],
   "metadata": {
    "collapsed": false,
    "ExecuteTime": {
     "end_time": "2024-10-22T07:45:51.283670Z",
     "start_time": "2024-10-22T07:45:50.843892Z"
    }
   },
   "id": "4196e980ccd51305",
   "execution_count": 6
  },
  {
   "cell_type": "code",
   "outputs": [
    {
     "name": "stderr",
     "output_type": "stream",
     "text": [
      "C:\\Users\\Victoria\\Desktop\\4 курс\\Засоби глибинного навчання\\1.1\\.venv\\lib\\site-packages\\keras\\src\\layers\\core\\dense.py:87: UserWarning: Do not pass an `input_shape`/`input_dim` argument to a layer. When using Sequential models, prefer using an `Input(shape)` object as the first layer in the model instead.\n",
      "  super().__init__(activity_regularizer=activity_regularizer, **kwargs)\n"
     ]
    },
    {
     "name": "stdout",
     "output_type": "stream",
     "text": [
      "Epoch 1/10\n",
      "1750/1750 - 11s - 6ms/step - accuracy: 0.8236 - loss: 0.4853 - val_accuracy: 0.8690 - val_loss: 0.3722\n",
      "Epoch 2/10\n",
      "1750/1750 - 10s - 6ms/step - accuracy: 0.8665 - loss: 0.3629 - val_accuracy: 0.8635 - val_loss: 0.4039\n",
      "Epoch 3/10\n",
      "1750/1750 - 9s - 5ms/step - accuracy: 0.8780 - loss: 0.3304 - val_accuracy: 0.8767 - val_loss: 0.3306\n",
      "Epoch 4/10\n",
      "1750/1750 - 10s - 5ms/step - accuracy: 0.8867 - loss: 0.3048 - val_accuracy: 0.8643 - val_loss: 0.3931\n",
      "Epoch 5/10\n",
      "1750/1750 - 10s - 5ms/step - accuracy: 0.8929 - loss: 0.2882 - val_accuracy: 0.8815 - val_loss: 0.3271\n",
      "Epoch 6/10\n",
      "1750/1750 - 10s - 6ms/step - accuracy: 0.8963 - loss: 0.2756 - val_accuracy: 0.8882 - val_loss: 0.3043\n",
      "Epoch 7/10\n",
      "1750/1750 - 10s - 6ms/step - accuracy: 0.9015 - loss: 0.2608 - val_accuracy: 0.8850 - val_loss: 0.3060\n",
      "Epoch 8/10\n",
      "1750/1750 - 9s - 5ms/step - accuracy: 0.9063 - loss: 0.2494 - val_accuracy: 0.8863 - val_loss: 0.3269\n",
      "Epoch 9/10\n",
      "1750/1750 - 9s - 5ms/step - accuracy: 0.9091 - loss: 0.2396 - val_accuracy: 0.8838 - val_loss: 0.3201\n",
      "Epoch 10/10\n",
      "1750/1750 - 9s - 5ms/step - accuracy: 0.9105 - loss: 0.2338 - val_accuracy: 0.8835 - val_loss: 0.3317\n"
     ]
    },
    {
     "data": {
      "text/plain": "<Figure size 800x500 with 1 Axes>",
      "image/png": "[encoded data removed]"
     },
     "metadata": {},
     "output_type": "display_data"
    },
    {
     "name": "stdout",
     "output_type": "stream",
     "text": [
      "Точність на валідаційних даних для Модель 1: 0.8835\n"
     ]
    }
   ],
   "source": [
    "model_1 = create_model_relu()\n",
    "train_and_plot(model_1, \"Модель 1\", x_train, y_train_one_hot, x_valid, y_valid_one_hot)"
   ],
   "metadata": {
    "collapsed": false,
    "ExecuteTime": {
     "end_time": "2024-10-22T07:47:29.453177Z",
     "start_time": "2024-10-22T07:45:51.285661Z"
    }
   },
   "id": "8bcaee13e4231578",
   "execution_count": 7
  },
  {
   "cell_type": "code",
   "outputs": [
    {
     "name": "stderr",
     "output_type": "stream",
     "text": [
      "C:\\Users\\Victoria\\Desktop\\4 курс\\Засоби глибинного навчання\\1.1\\.venv\\lib\\site-packages\\keras\\src\\layers\\core\\dense.py:87: UserWarning: Do not pass an `input_shape`/`input_dim` argument to a layer. When using Sequential models, prefer using an `Input(shape)` object as the first layer in the model instead.\n",
      "  super().__init__(activity_regularizer=activity_regularizer, **kwargs)\n"
     ]
    },
    {
     "name": "stdout",
     "output_type": "stream",
     "text": [
      "Epoch 1/10\n",
      "1750/1750 - 12s - 7ms/step - accuracy: 0.8253 - loss: 0.4823 - val_accuracy: 0.8447 - val_loss: 0.4464\n",
      "Epoch 2/10\n",
      "1750/1750 - 14s - 8ms/step - accuracy: 0.8651 - loss: 0.3700 - val_accuracy: 0.8620 - val_loss: 0.3764\n",
      "Epoch 3/10\n",
      "1750/1750 - 14s - 8ms/step - accuracy: 0.8765 - loss: 0.3391 - val_accuracy: 0.8770 - val_loss: 0.3323\n",
      "Epoch 4/10\n",
      "1750/1750 - 15s - 8ms/step - accuracy: 0.8809 - loss: 0.3214 - val_accuracy: 0.8708 - val_loss: 0.3461\n",
      "Epoch 5/10\n",
      "1750/1750 - 14s - 8ms/step - accuracy: 0.8862 - loss: 0.3064 - val_accuracy: 0.8810 - val_loss: 0.3372\n",
      "Epoch 6/10\n",
      "1750/1750 - 14s - 8ms/step - accuracy: 0.8906 - loss: 0.2946 - val_accuracy: 0.8740 - val_loss: 0.3328\n",
      "Epoch 7/10\n",
      "1750/1750 - 16s - 9ms/step - accuracy: 0.8926 - loss: 0.2839 - val_accuracy: 0.8810 - val_loss: 0.3324\n",
      "Epoch 8/10\n",
      "1750/1750 - 5s - 3ms/step - accuracy: 0.8968 - loss: 0.2798 - val_accuracy: 0.8748 - val_loss: 0.3323\n",
      "Epoch 9/10\n",
      "1750/1750 - 7s - 4ms/step - accuracy: 0.8984 - loss: 0.2708 - val_accuracy: 0.8823 - val_loss: 0.3148\n",
      "Epoch 10/10\n",
      "1750/1750 - 7s - 4ms/step - accuracy: 0.9014 - loss: 0.2633 - val_accuracy: 0.8838 - val_loss: 0.3166\n"
     ]
    },
    {
     "data": {
      "text/plain": "<Figure size 800x500 with 1 Axes>",
      "image/png": "[encoded data removed]"
     },
     "metadata": {},
     "output_type": "display_data"
    },
    {
     "name": "stdout",
     "output_type": "stream",
     "text": [
      "Точність на валідаційних даних для Модель 2: 0.8838\n"
     ]
    }
   ],
   "source": [
    "model_2 = create_model_tanh()\n",
    "train_and_plot(model_2, \"Модель 2\", x_train, y_train_one_hot, x_valid, y_valid_one_hot)"
   ],
   "metadata": {
    "collapsed": false,
    "ExecuteTime": {
     "end_time": "2024-10-22T07:49:28.061301Z",
     "start_time": "2024-10-22T07:47:29.456180Z"
    }
   },
   "id": "519d9a6be316abe0",
   "execution_count": 8
  },
  {
   "cell_type": "code",
   "outputs": [
    {
     "name": "stderr",
     "output_type": "stream",
     "text": [
      "C:\\Users\\Victoria\\Desktop\\4 курс\\Засоби глибинного навчання\\1.1\\.venv\\lib\\site-packages\\keras\\src\\layers\\core\\dense.py:87: UserWarning: Do not pass an `input_shape`/`input_dim` argument to a layer. When using Sequential models, prefer using an `Input(shape)` object as the first layer in the model instead.\n",
      "  super().__init__(activity_regularizer=activity_regularizer, **kwargs)\n"
     ]
    },
    {
     "name": "stdout",
     "output_type": "stream",
     "text": [
      "Epoch 1/10\n",
      "1750/1750 - 10s - 6ms/step - accuracy: 0.8152 - loss: 0.5124 - val_accuracy: 0.8428 - val_loss: 0.4205\n",
      "Epoch 2/10\n",
      "1750/1750 - 8s - 5ms/step - accuracy: 0.8542 - loss: 0.3975 - val_accuracy: 0.8630 - val_loss: 0.3860\n",
      "Epoch 3/10\n",
      "1750/1750 - 7s - 4ms/step - accuracy: 0.8663 - loss: 0.3605 - val_accuracy: 0.8580 - val_loss: 0.3980\n",
      "Epoch 4/10\n",
      "1750/1750 - 8s - 5ms/step - accuracy: 0.8758 - loss: 0.3369 - val_accuracy: 0.8650 - val_loss: 0.3774\n",
      "Epoch 5/10\n",
      "1750/1750 - 7s - 4ms/step - accuracy: 0.8791 - loss: 0.3235 - val_accuracy: 0.8665 - val_loss: 0.3690\n",
      "Epoch 6/10\n",
      "1750/1750 - 8s - 5ms/step - accuracy: 0.8852 - loss: 0.3034 - val_accuracy: 0.8730 - val_loss: 0.3520\n",
      "Epoch 7/10\n",
      "1750/1750 - 9s - 5ms/step - accuracy: 0.8898 - loss: 0.2919 - val_accuracy: 0.8658 - val_loss: 0.3638\n",
      "Epoch 8/10\n",
      "1750/1750 - 9s - 5ms/step - accuracy: 0.8949 - loss: 0.2778 - val_accuracy: 0.8827 - val_loss: 0.3365\n",
      "Epoch 9/10\n",
      "1750/1750 - 9s - 5ms/step - accuracy: 0.8989 - loss: 0.2685 - val_accuracy: 0.8788 - val_loss: 0.3530\n",
      "Epoch 10/10\n",
      "1750/1750 - 9s - 5ms/step - accuracy: 0.9021 - loss: 0.2593 - val_accuracy: 0.8668 - val_loss: 0.4201\n"
     ]
    },
    {
     "data": {
      "text/plain": "<Figure size 800x500 with 1 Axes>",
      "image/png": "[encoded data removed]"
     },
     "metadata": {},
     "output_type": "display_data"
    },
    {
     "name": "stdout",
     "output_type": "stream",
     "text": [
      "Точність на валідаційних даних для Модель 3: 0.8668\n"
     ]
    }
   ],
   "source": [
    "model_3 = create_model_selu()\n",
    "train_and_plot(model_3, \"Модель 3\", x_train, y_train_one_hot, x_valid, y_valid_one_hot)"
   ],
   "metadata": {
    "collapsed": false,
    "ExecuteTime": {
     "end_time": "2024-10-22T07:50:53.250804Z",
     "start_time": "2024-10-22T07:49:28.063939Z"
    }
   },
   "id": "a8dc687b6c9e2274",
   "execution_count": 9
  },
  {
   "cell_type": "code",
   "outputs": [],
   "source": [
    "from sklearn.metrics import classification_report\n",
    "import numpy as np\n",
    "\n",
    "def classification_report_for_model(model, model_name):\n",
    "    y_pred = model.predict(x_test)\n",
    "    \n",
    "    print(f\"Звіт по класифікації для {model_name}:\")\n",
    "    print(classification_report(y_test, y_pred.argmax(axis=1), target_names=class_names))"
   ],
   "metadata": {
    "collapsed": false,
    "ExecuteTime": {
     "end_time": "2024-10-22T07:50:55.057241Z",
     "start_time": "2024-10-22T07:50:53.255286Z"
    }
   },
   "id": "b80375648b95c097",
   "execution_count": 10
  },
  {
   "cell_type": "code",
   "outputs": [
    {
     "name": "stdout",
     "output_type": "stream",
     "text": [
      "\u001B[1m313/313\u001B[0m \u001B[32m━━━━━━━━━━━━━━━━━━━━\u001B[0m\u001B[37m\u001B[0m \u001B[1m2s\u001B[0m 5ms/step\n",
      "Звіт по класифікації для Модель 1:\n",
      "              precision    recall  f1-score   support\n",
      "\n",
      "     T-shirt       0.77      0.89      0.82      1000\n",
      "     Trouser       0.96      0.98      0.97      1000\n",
      "    Pullover       0.81      0.70      0.75      1000\n",
      "       Dress       0.92      0.84      0.88      1000\n",
      "        Coat       0.64      0.92      0.75      1000\n",
      "      Sandal       0.99      0.93      0.96      1000\n",
      "       Shirt       0.77      0.43      0.56      1000\n",
      "     Sneaker       0.95      0.95      0.95      1000\n",
      "         Bag       0.95      0.98      0.97      1000\n",
      "  Ankle boot       0.92      0.98      0.95      1000\n",
      "\n",
      "    accuracy                           0.86     10000\n",
      "   macro avg       0.87      0.86      0.86     10000\n",
      "weighted avg       0.87      0.86      0.86     10000\n",
      "\u001B[1m313/313\u001B[0m \u001B[32m━━━━━━━━━━━━━━━━━━━━\u001B[0m\u001B[37m\u001B[0m \u001B[1m2s\u001B[0m 5ms/step\n",
      "Звіт по класифікації для Модель 2:\n",
      "              precision    recall  f1-score   support\n",
      "\n",
      "     T-shirt       0.87      0.77      0.81      1000\n",
      "     Trouser       0.97      0.97      0.97      1000\n",
      "    Pullover       0.82      0.70      0.76      1000\n",
      "       Dress       0.86      0.87      0.87      1000\n",
      "        Coat       0.69      0.88      0.77      1000\n",
      "      Sandal       0.98      0.90      0.94      1000\n",
      "       Shirt       0.69      0.66      0.67      1000\n",
      "     Sneaker       0.91      0.95      0.93      1000\n",
      "         Bag       0.96      0.97      0.97      1000\n",
      "  Ankle boot       0.93      0.97      0.95      1000\n",
      "\n",
      "    accuracy                           0.86     10000\n",
      "   macro avg       0.87      0.86      0.86     10000\n",
      "weighted avg       0.87      0.86      0.86     10000\n",
      "\u001B[1m313/313\u001B[0m \u001B[32m━━━━━━━━━━━━━━━━━━━━\u001B[0m\u001B[37m\u001B[0m \u001B[1m2s\u001B[0m 5ms/step\n",
      "Звіт по класифікації для Модель 3:\n",
      "              precision    recall  f1-score   support\n",
      "\n",
      "     T-shirt       0.71      0.83      0.76      1000\n",
      "     Trouser       0.83      0.97      0.90      1000\n",
      "    Pullover       0.83      0.54      0.65      1000\n",
      "       Dress       0.94      0.61      0.74      1000\n",
      "        Coat       0.60      0.92      0.73      1000\n",
      "      Sandal       0.97      0.81      0.89      1000\n",
      "       Shirt       0.63      0.55      0.59      1000\n",
      "     Sneaker       0.96      0.37      0.53      1000\n",
      "         Bag       0.93      0.93      0.93      1000\n",
      "  Ankle boot       0.57      0.98      0.72      1000\n",
      "\n",
      "    accuracy                           0.75     10000\n",
      "   macro avg       0.80      0.75      0.74     10000\n",
      "weighted avg       0.80      0.75      0.74     10000\n"
     ]
    }
   ],
   "source": [
    "classification_report_for_model(model_1, \"Модель 1\")\n",
    "classification_report_for_model(model_2, \"Модель 2\")\n",
    "classification_report_for_model(model_3, \"Модель 3\")"
   ],
   "metadata": {
    "collapsed": false,
    "ExecuteTime": {
     "end_time": "2024-10-22T07:51:02.717978Z",
     "start_time": "2024-10-22T07:50:55.061239Z"
    }
   },
   "id": "597faf12b848dbc0",
   "execution_count": 11
  },
  {
   "cell_type": "code",
   "outputs": [],
   "source": [
    "def classification_report_for_model(model, model_name, x_selected, y_selected):\n",
    "    y_pred = model.predict(x_selected)\n",
    "    \n",
    "    print(f\"Звіт по класифікації для {model_name}:\")\n",
    "    print(classification_report(y_selected, y_pred.argmax(axis=1), target_names=class_names))"
   ],
   "metadata": {
    "collapsed": false,
    "ExecuteTime": {
     "end_time": "2024-10-22T07:51:02.748667Z",
     "start_time": "2024-10-22T07:51:02.722295Z"
    }
   },
   "id": "f88e5f216529fc23",
   "execution_count": 12
  },
  {
   "cell_type": "code",
   "outputs": [
    {
     "data": {
      "text/plain": "(array([[0, 0, 0, ..., 0, 0, 0],\n        [0, 0, 0, ..., 0, 0, 0],\n        [0, 0, 0, ..., 0, 0, 0],\n        ...,\n        [0, 0, 0, ..., 0, 0, 0],\n        [0, 0, 0, ..., 0, 0, 0],\n        [0, 0, 0, ..., 0, 0, 0]], dtype=uint8),\n array([1, 8, 1, 6, 0, 6, 5, 7, 3, 4, 8, 5, 3, 8, 9, 2, 4, 5, 8, 7],\n       dtype=uint8))"
     },
     "execution_count": 13,
     "metadata": {},
     "output_type": "execute_result"
    }
   ],
   "source": [
    "import random\n",
    "\n",
    "N_AMOUNT = 20\n",
    "rand_indices = random.sample(range(x_test.shape[0]), k=N_AMOUNT)\n",
    "\n",
    "x_selected = x_test[rand_indices]\n",
    "y_selected = y_test[rand_indices]\n",
    "\n",
    "x_selected, y_selected"
   ],
   "metadata": {
    "collapsed": false,
    "ExecuteTime": {
     "end_time": "2024-10-22T07:51:02.779227Z",
     "start_time": "2024-10-22T07:51:02.752886Z"
    }
   },
   "id": "9ba4bf9ffe523ec2",
   "execution_count": 13
  },
  {
   "cell_type": "code",
   "outputs": [
    {
     "name": "stdout",
     "output_type": "stream",
     "text": [
      "\u001B[1m1/1\u001B[0m \u001B[32m━━━━━━━━━━━━━━━━━━━━\u001B[0m\u001B[37m\u001B[0m \u001B[1m0s\u001B[0m 62ms/step\n",
      "Звіт по класифікації для Модель 1:\n",
      "              precision    recall  f1-score   support\n",
      "\n",
      "     Class 0       1.00      1.00      1.00         1\n",
      "     Class 1       0.67      1.00      0.80         2\n",
      "     Class 2       0.00      0.00      0.00         1\n",
      "     Class 3       1.00      0.50      0.67         2\n",
      "     Class 4       0.50      1.00      0.67         2\n",
      "     Class 5       1.00      1.00      1.00         3\n",
      "     Class 6       1.00      0.50      0.67         2\n",
      "     Class 7       1.00      1.00      1.00         2\n",
      "\n",
      "   micro avg       0.80      0.80      0.80        15\n",
      "   macro avg       0.77      0.75      0.72        15\n",
      "weighted avg       0.82      0.80      0.77        15\n",
      "\u001B[1m1/1\u001B[0m \u001B[32m━━━━━━━━━━━━━━━━━━━━\u001B[0m\u001B[37m\u001B[0m \u001B[1m0s\u001B[0m 56ms/step\n",
      "Звіт по класифікації для Модель 2:\n",
      "              precision    recall  f1-score   support\n",
      "\n",
      "     Class 0       1.00      1.00      1.00         1\n",
      "     Class 1       0.67      1.00      0.80         2\n",
      "     Class 2       1.00      1.00      1.00         1\n",
      "     Class 3       1.00      0.50      0.67         2\n",
      "     Class 4       0.67      1.00      0.80         2\n",
      "     Class 5       1.00      1.00      1.00         3\n",
      "     Class 6       1.00      0.50      0.67         2\n",
      "     Class 7       1.00      1.00      1.00         2\n",
      "\n",
      "   micro avg       0.87      0.87      0.87        15\n",
      "   macro avg       0.92      0.88      0.87        15\n",
      "weighted avg       0.91      0.87      0.86        15\n",
      "\n",
      "\u001B[1m1/1\u001B[0m \u001B[32m━━━━━━━━━━━━━━━━━━━━\u001B[0m\u001B[37m\u001B[0m \u001B[1m0s\u001B[0m 55ms/step\n",
      "Звіт по класифікації для Модель 3:\n",
      "              precision    recall  f1-score   support\n",
      "\n",
      "     Class 0       1.00      1.00      1.00         1\n",
      "     Class 1       0.50      1.00      0.67         2\n",
      "     Class 2       0.00      0.00      0.00         1\n",
      "     Class 3       1.00      0.50      0.67         2\n",
      "     Class 4       0.50      1.00      0.67         2\n",
      "     Class 5       1.00      0.67      0.80         3\n",
      "     Class 6       1.00      0.50      0.67         2\n",
      "     Class 7       1.00      0.50      0.67         2\n",
      "\n",
      "   micro avg       0.71      0.67      0.69        15\n",
      "   macro avg       0.75      0.65      0.64        15\n",
      "weighted avg       0.80      0.67      0.67        15\n"
     ]
    }
   ],
   "source": [
    "from sklearn.metrics import classification_report\n",
    "\n",
    "def classification_report_for_model(model, model_name, x_selected, y_selected, class_names, labels):\n",
    "    y_pred = model.predict(x_selected)\n",
    "    \n",
    "    # Print classification report with zero_division handling\n",
    "    print(f\"Звіт по класифікації для {model_name}:\")\n",
    "    print(classification_report(y_selected, y_pred.argmax(axis=1), target_names=class_names, labels=labels, zero_division=0))\n",
    "\n",
    "# Example: Specify labels and class_names\n",
    "labels = [0, 1, 2, 3, 4, 5, 6, 7]  # Adjust based on your actual classes\n",
    "class_names = [\"Class 0\", \"Class 1\", \"Class 2\", \"Class 3\", \"Class 4\", \"Class 5\", \"Class 6\", \"Class 7\"]\n",
    "\n",
    "classification_report_for_model(model_1, \"Модель 1\", x_selected, y_selected, class_names, labels)\n",
    "classification_report_for_model(model_2, \"Модель 2\", x_selected, y_selected, class_names, labels)\n",
    "classification_report_for_model(model_3, \"Модель 3\", x_selected, y_selected, class_names, labels)\n"
   ],
   "metadata": {
    "collapsed": false,
    "ExecuteTime": {
     "end_time": "2024-10-22T07:51:03.461507Z",
     "start_time": "2024-10-22T07:51:02.790294Z"
    }
   },
   "id": "d9707d086741ce4c",
   "execution_count": 14
  },
  {
   "cell_type": "code",
   "outputs": [],
   "source": [],
   "metadata": {
    "collapsed": false,
    "ExecuteTime": {
     "end_time": "2024-10-22T07:51:03.492252Z",
     "start_time": "2024-10-22T07:51:03.467166Z"
    }
   },
   "id": "dac752d4a38dd516",
   "execution_count": 14
  }
 ],
 "metadata": {
  "kernelspec": {
   "display_name": "Python 3",
   "language": "python",
   "name": "python3"
  },
  "language_info": {
   "codemirror_mode": {
    "name": "ipython",
    "version": 2
   },
   "file_extension": ".py",
   "mimetype": "text/x-python",
   "name": "python",
   "nbconvert_exporter": "python",
   "pygments_lexer": "ipython2",
   "version": "2.7.6"
  }
 },
 "nbformat": 4,
 "nbformat_minor": 5
}
